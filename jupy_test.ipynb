{
 "cells": [
  {
   "cell_type": "code",
   "execution_count": 4,
   "id": "f20ac7b6-4869-4af5-83ef-475a8a18a48c",
   "metadata": {},
   "outputs": [
    {
     "name": "stdout",
     "output_type": "stream",
     "text": [
      "new notebook created via jupyterlab. with jupytext.toml, the companion .py is auto-created.\n",
      "making an edit in jupyterlab.\n"
     ]
    }
   ],
   "source": [
    "print(\n",
    "    'new notebook created via jupyterlab. with jupytext.toml, the companion .py is auto-created.\\n'\n",
    "    + 'making an edit in jupyterlab.'\n",
    ")"
   ]
  }
 ],
 "metadata": {
  "kernelspec": {
   "display_name": "Python 3 (ipykernel)",
   "language": "python",
   "name": "python3"
  },
  "language_info": {
   "codemirror_mode": {
    "name": "ipython",
    "version": 3
   },
   "file_extension": ".py",
   "mimetype": "text/x-python",
   "name": "python",
   "nbconvert_exporter": "python",
   "pygments_lexer": "ipython3",
   "version": "3.9.9"
  }
 },
 "nbformat": 4,
 "nbformat_minor": 5
}
